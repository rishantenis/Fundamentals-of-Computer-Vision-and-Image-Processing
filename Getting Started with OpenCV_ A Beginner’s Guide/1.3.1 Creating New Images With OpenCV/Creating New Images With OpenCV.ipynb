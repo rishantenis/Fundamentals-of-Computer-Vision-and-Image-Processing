{
 "cells": [
  {
   "cell_type": "code",
   "execution_count": 1,
   "metadata": {},
   "outputs": [],
   "source": [
    "import numpy as np\n",
    "import cv2"
   ]
  },
  {
   "cell_type": "code",
   "execution_count": 4,
   "metadata": {},
   "outputs": [
    {
     "data": {
      "text/plain": [
       "0.0"
      ]
     },
     "execution_count": 4,
     "metadata": {},
     "output_type": "execute_result"
    }
   ],
   "source": [
    "0/255"
   ]
  },
  {
   "cell_type": "code",
   "execution_count": 11,
   "metadata": {},
   "outputs": [],
   "source": [
    "image_H, image_w = 300, 300\n",
    "image_black = np.zeros((image_H,image_w, 3), dtype = np.uint8)\n",
    "cv2.imshow(\"Black Image\", image_black)\n",
    "cv2.waitKey(0)\n",
    "cv2.destroyAllWindows()\n",
    "\n",
    "image_white = 255 * np.ones((image_H,image_w, 3), dtype = np.uint8)\n",
    "cv2.imshow(\"White Image\", image_white)\n",
    "cv2.waitKey(0)\n",
    "cv2.destroyAllWindows()\n",
    "\n",
    "image_blue = np.zeros((image_H,image_w, 3), dtype = np.uint8)\n",
    "image_blue[:, :] = [255, 0, 0] # Blue Color Combination\n",
    "cv2.imshow(\"Blue Image\", image_blue)\n",
    "cv2.waitKey(0)\n",
    "cv2.destroyAllWindows()\n",
    "\n",
    "image_unknown = np.zeros((image_H,image_w, 3), dtype = np.uint8)\n",
    "image_unknown[:, :] = [0, 255, 0] # Blue Color Combination\n",
    "cv2.imshow(\"Unknown Image\", image_unknown)\n",
    "cv2.waitKey(0)\n",
    "cv2.destroyAllWindows()"
   ]
  }
 ],
 "metadata": {
  "kernelspec": {
   "display_name": "cv",
   "language": "python",
   "name": "python3"
  },
  "language_info": {
   "codemirror_mode": {
    "name": "ipython",
    "version": 3
   },
   "file_extension": ".py",
   "mimetype": "text/x-python",
   "name": "python",
   "nbconvert_exporter": "python",
   "pygments_lexer": "ipython3",
   "version": "3.9.18"
  }
 },
 "nbformat": 4,
 "nbformat_minor": 2
}
