{
 "cells": [
  {
   "cell_type": "markdown",
   "metadata": {},
   "source": [
    "### Step 1: Import OpenCV and Load an Image"
   ]
  },
  {
   "cell_type": "code",
   "execution_count": null,
   "metadata": {},
   "outputs": [],
   "source": [
    "import cv2\n",
    "\n",
    "# Load an image\n",
    "image = cv2.imread('image.jpg')\n"
   ]
  },
  {
   "cell_type": "markdown",
   "metadata": {},
   "source": [
    "### Step 2: Split the Image into Color Channels "
   ]
  },
  {
   "cell_type": "code",
   "execution_count": null,
   "metadata": {},
   "outputs": [],
   "source": [
    "# Split the image into its color channels\n",
    "blue_channel, green_channel, red_channel = cv2.split(image)\n"
   ]
  },
  {
   "cell_type": "markdown",
   "metadata": {},
   "source": [
    "### Step 3: Display Individual Color Channels"
   ]
  },
  {
   "cell_type": "code",
   "execution_count": null,
   "metadata": {},
   "outputs": [],
   "source": [
    "# Display the individual color channels\n",
    "cv2.imshow('Blue Channel', blue_channel)\n",
    "cv2.imshow('Green Channel', green_channel)\n",
    "cv2.imshow('Red Channel', red_channel)\n",
    "cv2.waitKey(0)\n",
    "cv2.destroyAllWindows()\n"
   ]
  },
  {
   "cell_type": "markdown",
   "metadata": {},
   "source": [
    "### Step 4: Merge and Reconstruct the Image"
   ]
  },
  {
   "cell_type": "code",
   "execution_count": null,
   "metadata": {},
   "outputs": [],
   "source": [
    "# Merge the color channels to reconstruct the image\n",
    "reconstructed_image = cv2.merge((blue_channel, green_channel, red_channel))\n",
    "cv2.imshow('Reconstructed Image', reconstructed_image)\n",
    "cv2.waitKey(0)\n",
    "cv2.destroyAllWindows()\n"
   ]
  },
  {
   "cell_type": "markdown",
   "metadata": {},
   "source": [
    "### Step 5: Modify a Specific Color Channel "
   ]
  },
  {
   "cell_type": "code",
   "execution_count": null,
   "metadata": {},
   "outputs": [],
   "source": [
    "# Let's modify the red channel by setting it to zero\n",
    "red_channel_modified = red_channel.copy()\n",
    "red_channel_modified[:,:] = 0\n",
    "\n",
    "# Merge the modified red channel with the green and blue channels\n",
    "modified_image = cv2.merge((blue_channel, green_channel, red_channel_modified))\n",
    "cv2.imshow('Modified Image', modified_image)\n",
    "cv2.waitKey(0)\n",
    "cv2.destroyAllWindows()\n"
   ]
  },
  {
   "cell_type": "markdown",
   "metadata": {},
   "source": [
    "### Step 6: Convert the Image to Grayscale"
   ]
  },
  {
   "cell_type": "code",
   "execution_count": null,
   "metadata": {},
   "outputs": [],
   "source": [
    "# Convert the image to grayscale\n",
    "gray_image = cv2.cvtColor(image, cv2.COLOR_BGR2GRAY)\n",
    "cv2.imshow('Grayscale Image', gray_image)\n",
    "cv2.waitKey(0)\n",
    "cv2.destroyAllWindows()\n"
   ]
  },
  {
   "cell_type": "markdown",
   "metadata": {},
   "source": [
    "### Step 7: Create a Custom Color Image"
   ]
  },
  {
   "cell_type": "code",
   "execution_count": null,
   "metadata": {},
   "outputs": [],
   "source": [
    "# Create a custom color image by combining color channels\n",
    "custom_color_image = cv2.merge((blue_channel, green_channel, red_channel_modified))\n",
    "cv2.imshow('Custom Color Image', custom_color_image)\n",
    "cv2.waitKey(0)\n",
    "cv2.destroyAllWindows()\n"
   ]
  },
  {
   "cell_type": "markdown",
   "metadata": {},
   "source": [
    "### Step 8: Access and Manipulate Pixel Values"
   ]
  },
  {
   "cell_type": "code",
   "execution_count": null,
   "metadata": {},
   "outputs": [],
   "source": [
    "# Access and manipulate pixel values in a specific channel\n",
    "# For example, let's access and modify a pixel in the green channel\n",
    "x, y = 100, 100  # Coordinates of the pixel\n",
    "green_value = green_channel[y, x]\n",
    "print(f'Original Green Value: {green_value}')\n",
    "\n",
    "# Modify the green value of the pixel\n",
    "green_channel[y, x] = 255  # Set it to maximum intensity (pure green)\n",
    "cv2.imshow('Modified Green Channel', green_channel)\n",
    "cv2.waitKey(0)\n",
    "cv2.destroyAllWindows()\n"
   ]
  },
  {
   "cell_type": "markdown",
   "metadata": {},
   "source": [
    "### Step 9: Splitting and Merging Color Channels in a Different Color Space"
   ]
  },
  {
   "cell_type": "code",
   "execution_count": null,
   "metadata": {},
   "outputs": [],
   "source": [
    "# Convert the image to a different color space (e.g., HSV)\n",
    "hsv_image = cv2.cvtColor(image, cv2.COLOR_BGR2HSV)\n",
    "\n",
    "# Split the HSV image into its channels\n",
    "hue_channel, saturation_channel, value_channel = cv2.split(hsv_image)\n",
    "\n",
    "# Merge specific channels to create a new image\n",
    "new_hsv_image = cv2.merge((hue_channel, saturation_channel, red_channel))\n",
    "new_rgb_image = cv2.cvtColor(new_hsv_image, cv2.COLOR_HSV2BGR)\n",
    "cv2.imshow('New RGB Image', new_rgb_image)\n",
    "cv2.waitKey(0)\n",
    "cv2.destroyAllWindows()\n"
   ]
  },
  {
   "cell_type": "markdown",
   "metadata": {},
   "source": [
    "### Step 10: Histogram Equalization for Enhancing a Channel"
   ]
  },
  {
   "cell_type": "code",
   "execution_count": null,
   "metadata": {},
   "outputs": [],
   "source": [
    "# Perform histogram equalization on a channel (e.g., the grayscale image)\n",
    "equalized_image = cv2.equalizeHist(gray_image)\n",
    "cv2.imshow('Equalized Grayscale Image', equalized_image)\n",
    "cv2.waitKey(0)\n",
    "cv2.destroyAllWindows()\n"
   ]
  },
  {
   "cell_type": "markdown",
   "metadata": {},
   "source": [
    "### Step 11: Swap or Shuffle Color Channels"
   ]
  },
  {
   "cell_type": "code",
   "execution_count": null,
   "metadata": {},
   "outputs": [],
   "source": [
    "# Swap color channels, e.g., creating a new image with the Red and Blue channels swapped\n",
    "swapped_channels_image = cv2.merge((red_channel, green_channel, blue_channel))\n",
    "cv2.imshow('Swapped Channels Image', swapped_channels_image)\n",
    "cv2.waitKey(0)\n",
    "cv2.destroyAllWindows()\n"
   ]
  },
  {
   "cell_type": "markdown",
   "metadata": {},
   "source": [
    "### Step 12: Apply a Color Filter to a Channel"
   ]
  },
  {
   "cell_type": "code",
   "execution_count": null,
   "metadata": {},
   "outputs": [],
   "source": [
    "# Apply a color filter to a specific channel (e.g., make the green channel grayscale)\n",
    "filtered_green_channel = green_channel.copy()\n",
    "filtered_green_channel[:,:] = 128  # Set all pixel values to a constant value (gray)\n",
    "cv2.imshow('Filtered Green Channel', filtered_green_channel)\n",
    "cv2.waitKey(0)\n",
    "cv2.destroyAllWindows()\n"
   ]
  },
  {
   "cell_type": "markdown",
   "metadata": {},
   "source": [
    "### Step 13: Combine Channels from Different Images"
   ]
  },
  {
   "cell_type": "code",
   "execution_count": null,
   "metadata": {},
   "outputs": [],
   "source": [
    "# Load another image\n",
    "image2 = cv2.imread('image2.jpg')\n",
    "\n",
    "# Split the color channels of the second image\n",
    "blue_channel2, green_channel2, red_channel2 = cv2.split(image2)\n",
    "\n",
    "# Combine channels from both images to create a new image\n",
    "combined_image = cv2.merge((blue_channel, green_channel2, red_channel))\n",
    "cv2.imshow('Combined Image', combined_image)\n",
    "cv2.waitKey(0)\n",
    "cv2.destroyAllWindows()\n"
   ]
  },
  {
   "cell_type": "code",
   "execution_count": 20,
   "metadata": {},
   "outputs": [],
   "source": [
    "### Step 14: Create a Binary Image from a Channel"
   ]
  },
  {
   "cell_type": "code",
   "execution_count": 21,
   "metadata": {},
   "outputs": [],
   "source": [
    "# Threshold a channel to create a binary image\n",
    "_, binary_image = cv2.threshold(gray_image, 128, 255, cv2.THRESH_BINARY)\n",
    "cv2.imshow('Binary Image', binary_image)\n",
    "cv2.waitKey(0)\n",
    "cv2.destroyAllWindows()\n"
   ]
  },
  {
   "cell_type": "markdown",
   "metadata": {},
   "source": [
    "### Step 15: Apply Filters to Channels"
   ]
  },
  {
   "cell_type": "code",
   "execution_count": null,
   "metadata": {},
   "outputs": [],
   "source": [
    "# Apply Gaussian blur to a specific channel (e.g., the red channel)\n",
    "blurred_red_channel = cv2.GaussianBlur(red_channel, (5, 5), 0)\n",
    "cv2.imshow('Blurred Red Channel', blurred_red_channel)\n",
    "cv2.waitKey(0)\n",
    "cv2.destroyAllWindows()\n"
   ]
  },
  {
   "cell_type": "markdown",
   "metadata": {},
   "source": [
    "### Step 16: Blend Channels to Create Color Effects"
   ]
  },
  {
   "cell_type": "code",
   "execution_count": null,
   "metadata": {},
   "outputs": [],
   "source": [
    "# Create a color effect by blending channels from two images\n",
    "blend_factor = 0.5  # Adjust the blending factor\n",
    "blended_image = cv2.addWeighted(image, blend_factor, image2, 1 - blend_factor, 0)\n",
    "cv2.imshow('Blended Image', blended_image)\n",
    "cv2.waitKey(0)\n",
    "cv2.destroyAllWindows()\n"
   ]
  },
  {
   "cell_type": "markdown",
   "metadata": {},
   "source": [
    "### Step 17: Invert a Channel"
   ]
  },
  {
   "cell_type": "code",
   "execution_count": null,
   "metadata": {},
   "outputs": [],
   "source": [
    "# Invert a specific channel (e.g., the green channel)\n",
    "inverted_green_channel = cv2.bitwise_not(green_channel)\n",
    "cv2.imshow('Inverted Green Channel', inverted_green_channel)\n",
    "cv2.waitKey(0)\n",
    "cv2.destroyAllWindows()\n"
   ]
  }
 ],
 "metadata": {
  "kernelspec": {
   "display_name": "Data",
   "language": "python",
   "name": "python3"
  },
  "language_info": {
   "codemirror_mode": {
    "name": "ipython",
    "version": 3
   },
   "file_extension": ".py",
   "mimetype": "text/x-python",
   "name": "python",
   "nbconvert_exporter": "python",
   "pygments_lexer": "ipython3",
   "version": "3.7.16"
  }
 },
 "nbformat": 4,
 "nbformat_minor": 2
}
