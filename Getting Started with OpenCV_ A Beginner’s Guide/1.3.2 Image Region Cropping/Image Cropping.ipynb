{
 "cells": [
  {
   "cell_type": "code",
   "execution_count": 1,
   "metadata": {},
   "outputs": [],
   "source": [
    "import numpy as np\n",
    "import cv2"
   ]
  },
  {
   "cell_type": "code",
   "execution_count": 4,
   "metadata": {},
   "outputs": [],
   "source": [
    "image = cv2.imread(\"Cats2.jpg\")\n",
    "if image is None:\n",
    "    print(\"Error 404: Image Not Found.\")\n",
    "    exit()\n",
    "\n",
    "x, y, image_w, image_H = 100, 50, 200, 150\n",
    "image_croped = image[y:y+image_H, x:x+image_w]\n",
    "\n",
    "cv2.imshow(\"Orginal Image\", image)\n",
    "cv2.imshow(\"Cropped Image\", image_croped)\n",
    "cv2.waitKey(0)\n",
    "cv2.destroyAllWindows()"
   ]
  },
  {
   "cell_type": "code",
   "execution_count": 5,
   "metadata": {},
   "outputs": [],
   "source": [
    "image = cv2.imread(\"Cats2.jpg\")\n",
    "if image is None:\n",
    "    print(\"Error 404: Image Not Found.\")\n",
    "    exit()\n",
    "\n",
    "x, y, image_w, image_H = 200, 150, 300, 250\n",
    "image_croped = image[y:y+image_H, x:x+image_w]\n",
    "\n",
    "cv2.imshow(\"Orginal Image\", image)\n",
    "cv2.imshow(\"Cropped Image\", image_croped)\n",
    "cv2.waitKey(0)\n",
    "cv2.destroyAllWindows()"
   ]
  },
  {
   "cell_type": "code",
   "execution_count": 9,
   "metadata": {},
   "outputs": [],
   "source": [
    "image = cv2.imread(\"Cats.jpg\")\n",
    "image1 = cv2.imread(\"Cats1.jpg\")\n",
    "image2 = cv2.imread(\"Cats2.jpg\")\n",
    "image4 = cv2.imread(\"Cats4.jpg\")\n",
    "if image is None:\n",
    "    print(\"Error 404: Image Not Found.\")\n",
    "    exit()\n",
    "\n",
    "x, y, image_w, image_H = 50, 250, 300, 250\n",
    "\n",
    "image_croped = image[y:y+image_H, x:x+image_w]\n",
    "image1_croped = image1[y:y+image_H, x:x+image_w]\n",
    "image2_croped = image2[y:y+image_H, x:x+image_w]\n",
    "image4_croped = image4[y:y+image_H, x:x+image_w]\n",
    "\n",
    "cv2.imshow(\"Orginal Image\", image)\n",
    "cv2.imshow(\"Cropped Image\", image_croped)\n",
    "\n",
    "cv2.imshow(\"Orginal Image 1\", image1)\n",
    "cv2.imshow(\"Cropped Image 1\", image1_croped)\n",
    "\n",
    "cv2.imshow(\"Orginal Image 2\", image2)\n",
    "cv2.imshow(\"Cropped Image 2\", image2_croped)\n",
    "\n",
    "cv2.imshow(\"Orginal Image 3\", image4)\n",
    "cv2.imshow(\"Cropped Image 3\", image4_croped)\n",
    "cv2.waitKey(0)\n",
    "cv2.destroyAllWindows()"
   ]
  },
  {
   "cell_type": "code",
   "execution_count": null,
   "metadata": {},
   "outputs": [],
   "source": []
  }
 ],
 "metadata": {
  "kernelspec": {
   "display_name": "cv",
   "language": "python",
   "name": "python3"
  },
  "language_info": {
   "codemirror_mode": {
    "name": "ipython",
    "version": 3
   },
   "file_extension": ".py",
   "mimetype": "text/x-python",
   "name": "python",
   "nbconvert_exporter": "python",
   "pygments_lexer": "ipython3",
   "version": "3.9.18"
  }
 },
 "nbformat": 4,
 "nbformat_minor": 2
}
