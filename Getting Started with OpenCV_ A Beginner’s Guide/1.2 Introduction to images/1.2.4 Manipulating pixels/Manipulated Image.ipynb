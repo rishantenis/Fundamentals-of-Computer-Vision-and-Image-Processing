{
 "cells": [
  {
   "cell_type": "markdown",
   "metadata": {},
   "source": [
    "#### Install\n",
    "1. Using Pip -- > pip install opencv-python\n",
    "2. Using anaconda -- > anaconda install -c anaconda opencv-python"
   ]
  },
  {
   "cell_type": "code",
   "execution_count": 1,
   "metadata": {},
   "outputs": [],
   "source": [
    "import cv2"
   ]
  },
  {
   "cell_type": "code",
   "execution_count": 2,
   "metadata": {},
   "outputs": [
    {
     "name": "stdout",
     "output_type": "stream",
     "text": [
      "Image Data type: <class 'numpy.ndarray'>\n",
      "Image Shape: (698, 606, 3)\n",
      "Image Read Value: \n",
      "[[241 240 236]\n",
      " [241 240 236]\n",
      " [241 240 236]\n",
      " ...\n",
      " [199 211 217]\n",
      " [199 210 218]\n",
      " [199 210 218]]\n"
     ]
    }
   ],
   "source": [
    "# Load the image file from the local folder / dir\n",
    "\n",
    "image = cv2.imread(\"Cats4.jpg\")\n",
    "print(f\"Image Data type: {type(image)}\")\n",
    "print(f\"Image Shape: {image.shape}\")\n",
    "#print(f\"Image Read Value: {image}\")\n",
    "print(f\"Image Read Value: \\n{image[3]}\")"
   ]
  },
  {
   "cell_type": "code",
   "execution_count": 3,
   "metadata": {},
   "outputs": [
    {
     "name": "stdout",
     "output_type": "stream",
     "text": [
      "Image Hight is : 698\n",
      "Image width is : 606\n",
      "Image color channel is : 3\n"
     ]
    }
   ],
   "source": [
    "image_hight, image_width, color_channel = image.shape\n",
    "print(f\"Image Hight is : {image_hight}\")\n",
    "print(f\"Image width is : {image_width}\")\n",
    "print(f\"Image color channel is : {color_channel}\")"
   ]
  },
  {
   "cell_type": "code",
   "execution_count": 4,
   "metadata": {},
   "outputs": [],
   "source": [
    "import cv2\n",
    "image = cv2.imread(\"ss.jpg\")\n",
    "image_hight, image_width, color_channel = image.shape\n",
    "for y in range(image_hight):\n",
    "    for x in range(image_width):\n",
    "        input_pixel = image[y, x]\n",
    "        image[y, x] = [255 - input_pixel[0], 255 - input_pixel[1], 255 - input_pixel[2]]\n",
    "\n",
    "cv2.imwrite(\"ManipulatedImageCat.jpg\", image)\n",
    "cv2.imshow(\"Manipulated Image\", image)\n",
    "cv2.waitKey(0)\n",
    "cv2.destroyAllWindows()"
   ]
  },
  {
   "cell_type": "code",
   "execution_count": 5,
   "metadata": {},
   "outputs": [],
   "source": [
    "image = cv2.imread(\"ss.jpg\")\n",
    "grayImage = cv2.cvtColor(image, cv2.COLOR_BGR2GRAY)\n",
    "cv2.imshow(\"Manipulated Image\", grayImage)\n",
    "cv2.waitKey(0)\n",
    "cv2.destroyAllWindows()"
   ]
  },
  {
   "cell_type": "code",
   "execution_count": null,
   "metadata": {},
   "outputs": [],
   "source": []
  }
 ],
 "metadata": {
  "kernelspec": {
   "display_name": "Data",
   "language": "python",
   "name": "python3"
  },
  "language_info": {
   "codemirror_mode": {
    "name": "ipython",
    "version": 3
   },
   "file_extension": ".py",
   "mimetype": "text/x-python",
   "name": "python",
   "nbconvert_exporter": "python",
   "pygments_lexer": "ipython3",
   "version": "3.7.16"
  }
 },
 "nbformat": 4,
 "nbformat_minor": 2
}
