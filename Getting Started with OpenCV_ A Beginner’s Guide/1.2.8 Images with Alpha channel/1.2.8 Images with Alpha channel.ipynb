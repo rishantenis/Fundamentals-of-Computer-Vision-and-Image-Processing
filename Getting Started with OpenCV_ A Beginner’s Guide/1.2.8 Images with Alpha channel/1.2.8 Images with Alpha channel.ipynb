{
 "cells": [
  {
   "cell_type": "code",
   "execution_count": 2,
   "metadata": {},
   "outputs": [],
   "source": [
    "import cv2\n",
    "import numpy as np"
   ]
  },
  {
   "cell_type": "code",
   "execution_count": 3,
   "metadata": {},
   "outputs": [
    {
     "name": "stdout",
     "output_type": "stream",
     "text": [
      "Image Data Shape:  (560, 1000, 3)\n"
     ]
    }
   ],
   "source": [
    "import cv2\n",
    "import numpy as np\n",
    "image_data = cv2.imread(\"Cat_Small.jpg\", cv2.IMREAD_UNCHANGED)\n",
    "print(\"Image Data Shape: \", image_data.shape)\n",
    "cv2.imshow(\"Orginal Image\", image_data)\n",
    "cv2.waitKey(0)\n",
    "cv2.destroyAllWindows()"
   ]
  },
  {
   "cell_type": "code",
   "execution_count": 4,
   "metadata": {},
   "outputs": [],
   "source": [
    "alpha_channel = image_data[:, :, 2]\n",
    "cv2.imshow(\"Alpha Image\", alpha_channel)\n",
    "cv2.waitKey(0)\n",
    "cv2.destroyAllWindows()"
   ]
  },
  {
   "cell_type": "code",
   "execution_count": 5,
   "metadata": {},
   "outputs": [],
   "source": [
    "transparent_image = np.zeros_like(image_data, dtype=np.uint8)\n",
    "cv2.imshow(\"Transparend Image\", transparent_image)\n",
    "cv2.waitKey(0)\n",
    "cv2.destroyAllWindows()"
   ]
  },
  {
   "cell_type": "code",
   "execution_count": 6,
   "metadata": {},
   "outputs": [
    {
     "data": {
      "text/plain": [
       "(560, 1000, 3)"
      ]
     },
     "execution_count": 6,
     "metadata": {},
     "output_type": "execute_result"
    }
   ],
   "source": [
    "background_image = cv2.imread(\"Land.jpg\")\n",
    "background_image.shape"
   ]
  },
  {
   "cell_type": "code",
   "execution_count": 7,
   "metadata": {},
   "outputs": [],
   "source": [
    "background_image = cv2.imread(\"Land.jpg\")\n",
    "image_resize = cv2.resize(background_image, (image_data.shape[0], image_data.shape[1]))\n",
    "image_overlay = cv2.addWeighted(image_data, 1, background_image, 1, 0)\n",
    "cv2.imshow(\"Overlay Image\", image_overlay)\n",
    "cv2.waitKey(0)\n",
    "cv2.destroyAllWindows()"
   ]
  },
  {
   "cell_type": "code",
   "execution_count": 8,
   "metadata": {},
   "outputs": [],
   "source": [
    "transparent_image_copy = image_data.copy()\n",
    "transparent_image_copy[:, :, 2] = transparent_image_copy[:, :, 2]//2\n",
    "cv2.imshow(\"Transparent Image Copy\", transparent_image_copy)\n",
    "cv2.waitKey(0)\n",
    "cv2.destroyAllWindows()"
   ]
  },
  {
   "cell_type": "code",
   "execution_count": 9,
   "metadata": {},
   "outputs": [],
   "source": [
    "# ahammadmejbah@gmail.com\n",
    "# ahammad@bytesofintelligence.com\n",
    "# ahammedmejbah@gmail.com\n",
    "#/ahammadmejbah"
   ]
  },
  {
   "cell_type": "code",
   "execution_count": 10,
   "metadata": {},
   "outputs": [],
   "source": [
    "image_circle = np.zeros((500, 500, 4), dtype = np.uint8)\n",
    "cv2.circle(image_circle, (250, 250), 100, (0, 0, 255, 255), -1)\n",
    "cv2.imshow(\"Circle\", image_circle)\n",
    "cv2.waitKey(0)\n",
    "cv2.destroyAllWindows()"
   ]
  },
  {
   "cell_type": "code",
   "execution_count": 11,
   "metadata": {},
   "outputs": [],
   "source": [
    "ground = cv2.bitwise_and(image_data, image_data, mask = alpha_channel)\n",
    "cv2.imshow(\"TGround Image Copy\", ground)\n",
    "cv2.waitKey(0)\n",
    "cv2.destroyAllWindows()"
   ]
  },
  {
   "cell_type": "code",
   "execution_count": 12,
   "metadata": {},
   "outputs": [],
   "source": [
    "inverse = cv2.bitwise_not(alpha_channel)\n",
    "remove_background = cv2.bitwise_and(image_data, image_data, mask=inverse)\n",
    "cv2.imshow(\"Remove Image Copy\", remove_background)\n",
    "cv2.waitKey(0)\n",
    "cv2.destroyAllWindows()"
   ]
  },
  {
   "cell_type": "code",
   "execution_count": 14,
   "metadata": {},
   "outputs": [
    {
     "data": {
      "text/plain": [
       "(560, 1000, 3)"
      ]
     },
     "execution_count": 14,
     "metadata": {},
     "output_type": "execute_result"
    }
   ],
   "source": [
    "image_data.shape"
   ]
  },
  {
   "cell_type": "code",
   "execution_count": 16,
   "metadata": {},
   "outputs": [],
   "source": [
    "image_r, image_c, _ = image_data.shape\n",
    "rotate_value = cv2.getRotationMatrix2D((image_c/2, image_r/2), 45, 1)\n",
    "rotate_image = cv2.warpAffine(image_data, rotate_value, (image_c, image_r), borderMode=cv2.BORDER_CONSTANT, borderValue=(0, 0, 0, 0))\n",
    "cv2.imshow(\"Rotate Image \", rotate_image)\n",
    "cv2.waitKey(0)\n",
    "cv2.destroyAllWindows()"
   ]
  },
  {
   "cell_type": "code",
   "execution_count": 17,
   "metadata": {},
   "outputs": [],
   "source": [
    "image_r, image_c, _ = image_data.shape\n",
    "rotate_value = cv2.getRotationMatrix2D((image_c/2, image_r/2), 45*2, 1)\n",
    "rotate_image = cv2.warpAffine(image_data, rotate_value, (image_c, image_r), borderMode=cv2.BORDER_CONSTANT, borderValue=(0, 0, 0, 0))\n",
    "cv2.imshow(\"Rotate Image 90 \", rotate_image)\n",
    "cv2.waitKey(0)\n",
    "cv2.destroyAllWindows()"
   ]
  },
  {
   "cell_type": "code",
   "execution_count": 18,
   "metadata": {},
   "outputs": [],
   "source": [
    "image_r, image_c, _ = image_data.shape\n",
    "rotate_value = cv2.getRotationMatrix2D((image_c/2, image_r/2), 45*4, 1)\n",
    "rotate_image = cv2.warpAffine(image_data, rotate_value, (image_c, image_r), borderMode=cv2.BORDER_CONSTANT, borderValue=(0, 0, 0, 0))\n",
    "cv2.imshow(\"Rotate Image 180\", rotate_image)\n",
    "cv2.waitKey(0)\n",
    "cv2.destroyAllWindows()"
   ]
  }
 ],
 "metadata": {
  "kernelspec": {
   "display_name": "cv",
   "language": "python",
   "name": "python3"
  },
  "language_info": {
   "codemirror_mode": {
    "name": "ipython",
    "version": 3
   },
   "file_extension": ".py",
   "mimetype": "text/x-python",
   "name": "python",
   "nbconvert_exporter": "python",
   "pygments_lexer": "ipython3",
   "version": "3.9.18"
  }
 },
 "nbformat": 4,
 "nbformat_minor": 2
}
